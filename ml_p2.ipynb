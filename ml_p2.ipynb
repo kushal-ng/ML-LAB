{
 "cells": [
  {
   "cell_type": "code",
   "execution_count": null,
   "id": "23d12124",
   "metadata": {},
   "outputs": [],
   "source": [
    "#Program-2\n",
    "\"\"\"\"\n",
    "For a given set of training data examples stored in a .CSV file (enjoySport Dataset),\n",
    "implement and demonstrate the Candidate-Elimination algorithm to output a description of the \n",
    "set of all hypotheses consistent with the training examples.\n",
    "  \n",
    "\"\"\"\"\""
   ]
  },
  {
   "cell_type": "code",
   "execution_count": 1,
   "id": "7c86e07c",
   "metadata": {},
   "outputs": [],
   "source": [
    "import pandas as pd\n",
    "import numpy as np"
   ]
  },
  {
   "cell_type": "code",
   "execution_count": 2,
   "id": "81cafd94",
   "metadata": {},
   "outputs": [
    {
     "data": {
      "text/html": [
       "<div>\n",
       "<style scoped>\n",
       "    .dataframe tbody tr th:only-of-type {\n",
       "        vertical-align: middle;\n",
       "    }\n",
       "\n",
       "    .dataframe tbody tr th {\n",
       "        vertical-align: top;\n",
       "    }\n",
       "\n",
       "    .dataframe thead th {\n",
       "        text-align: right;\n",
       "    }\n",
       "</style>\n",
       "<table border=\"1\" class=\"dataframe\">\n",
       "  <thead>\n",
       "    <tr style=\"text-align: right;\">\n",
       "      <th></th>\n",
       "      <th>Sky</th>\n",
       "      <th>AirTemp</th>\n",
       "      <th>Humidity</th>\n",
       "      <th>Wind</th>\n",
       "      <th>Water</th>\n",
       "      <th>Forecast</th>\n",
       "      <th>Enjoy Sport</th>\n",
       "    </tr>\n",
       "  </thead>\n",
       "  <tbody>\n",
       "    <tr>\n",
       "      <th>0</th>\n",
       "      <td>Sunny</td>\n",
       "      <td>Warm</td>\n",
       "      <td>Normal</td>\n",
       "      <td>Strong</td>\n",
       "      <td>Warm</td>\n",
       "      <td>Same</td>\n",
       "      <td>Yes</td>\n",
       "    </tr>\n",
       "    <tr>\n",
       "      <th>1</th>\n",
       "      <td>Sunny</td>\n",
       "      <td>Warm</td>\n",
       "      <td>High</td>\n",
       "      <td>Strong</td>\n",
       "      <td>Warm</td>\n",
       "      <td>Same</td>\n",
       "      <td>Yes</td>\n",
       "    </tr>\n",
       "    <tr>\n",
       "      <th>2</th>\n",
       "      <td>Rainy</td>\n",
       "      <td>Cold</td>\n",
       "      <td>High</td>\n",
       "      <td>Strong</td>\n",
       "      <td>Warm</td>\n",
       "      <td>Change</td>\n",
       "      <td>No</td>\n",
       "    </tr>\n",
       "    <tr>\n",
       "      <th>3</th>\n",
       "      <td>Sunny</td>\n",
       "      <td>Warm</td>\n",
       "      <td>High</td>\n",
       "      <td>Strong</td>\n",
       "      <td>Cool</td>\n",
       "      <td>Change</td>\n",
       "      <td>Yes</td>\n",
       "    </tr>\n",
       "  </tbody>\n",
       "</table>\n",
       "</div>"
      ],
      "text/plain": [
       "     Sky AirTemp Humidity    Wind Water Forecast Enjoy Sport\n",
       "0  Sunny    Warm   Normal  Strong  Warm     Same         Yes\n",
       "1  Sunny    Warm     High  Strong  Warm     Same         Yes\n",
       "2  Rainy    Cold     High  Strong  Warm   Change          No\n",
       "3  Sunny    Warm     High  Strong  Cool   Change         Yes"
      ]
     },
     "execution_count": 2,
     "metadata": {},
     "output_type": "execute_result"
    }
   ],
   "source": [
    "data = pd.read_csv(r\"C:/Users/admin/Downloads/CSE 5/Visual Studio Code/python files/ML LAB/Trainingdata1.csv\")\n",
    "data"
   ]
  },
  {
   "cell_type": "code",
   "execution_count": 3,
   "id": "dfaf810d",
   "metadata": {},
   "outputs": [
    {
     "data": {
      "text/plain": [
       "array([['Sunny', 'Warm', 'Normal', 'Strong', 'Warm', 'Same'],\n",
       "       ['Sunny', 'Warm', 'High', 'Strong', 'Warm', 'Same'],\n",
       "       ['Rainy', 'Cold', 'High', 'Strong', 'Warm', 'Change'],\n",
       "       ['Sunny', 'Warm', 'High', 'Strong', 'Cool', 'Change']],\n",
       "      dtype=object)"
      ]
     },
     "execution_count": 3,
     "metadata": {},
     "output_type": "execute_result"
    }
   ],
   "source": [
    "concepts = np.array(data)[:,0:-1]\n",
    "concepts"
   ]
  },
  {
   "cell_type": "code",
   "execution_count": 4,
   "id": "d9c81bfa",
   "metadata": {},
   "outputs": [
    {
     "data": {
      "text/plain": [
       "array(['Yes', 'Yes', 'No', 'Yes'], dtype=object)"
      ]
     },
     "execution_count": 4,
     "metadata": {},
     "output_type": "execute_result"
    }
   ],
   "source": [
    "target = np.array(data.iloc[:,-1])\n",
    "target"
   ]
  },
  {
   "cell_type": "code",
   "execution_count": 5,
   "id": "41bd4085",
   "metadata": {},
   "outputs": [],
   "source": [
    "def learn(concepts, target): \n",
    "    specific_h = concepts[0].copy()  \n",
    "    print(\"initialization of specific_h \\n\",specific_h)  \n",
    "    general_h = [[\"?\" for i in range(len(specific_h))] for i in range(len(specific_h))]     \n",
    "    print(\"initialization of general_h \\n\", general_h)  \n",
    "\n",
    "    for i, h in enumerate(concepts):\n",
    "        if target[i] == \"Yes\":\n",
    "            print(\"If instance is Positive \")\n",
    "            for x in range(len(specific_h)): \n",
    "                if h[x]!= specific_h[x]:                    \n",
    "                    specific_h[x] ='?'                     \n",
    "                    general_h[x][x] ='?'\n",
    "           \n",
    "        if target[i] == \"No\":            \n",
    "            print(\"If instance is Negative \")\n",
    "            for x in range(len(specific_h)): \n",
    "                if h[x]!= specific_h[x]:                    \n",
    "                    general_h[x][x] = specific_h[x]                \n",
    "                else:                    \n",
    "                    general_h[x][x] = '?'        \n",
    "\n",
    "        print(\" step\",(i+1))\n",
    "        print(specific_h)         \n",
    "        print(general_h)\n",
    "        print(\"\\n\")\n",
    "        print(\"\\n\")\n",
    "\n",
    "    #indices = [i for i, val in enumerate(general_h) if val == ['?', '?', '?', '?', '?', '?']]    \n",
    "    # for i in general_h:   \n",
    "    #     general_h.remove(['?', '?', '?', '?', '?', '?'])\n",
    "    general_h = [hyp for hyp in general_h if hyp != ['?', '?', '?', '?', '?', '?']] \n",
    "    return specific_h, general_h \n",
    "\n"
   ]
  },
  {
   "cell_type": "code",
   "execution_count": 6,
   "id": "559ae857",
   "metadata": {},
   "outputs": [
    {
     "name": "stdout",
     "output_type": "stream",
     "text": [
      "initialization of specific_h \n",
      " ['Sunny' 'Warm' 'Normal' 'Strong' 'Warm' 'Same']\n",
      "initialization of general_h \n",
      " [['?', '?', '?', '?', '?', '?'], ['?', '?', '?', '?', '?', '?'], ['?', '?', '?', '?', '?', '?'], ['?', '?', '?', '?', '?', '?'], ['?', '?', '?', '?', '?', '?'], ['?', '?', '?', '?', '?', '?']]\n",
      "If instance is Positive \n",
      " step 1\n",
      "['Sunny' 'Warm' 'Normal' 'Strong' 'Warm' 'Same']\n",
      "[['?', '?', '?', '?', '?', '?'], ['?', '?', '?', '?', '?', '?'], ['?', '?', '?', '?', '?', '?'], ['?', '?', '?', '?', '?', '?'], ['?', '?', '?', '?', '?', '?'], ['?', '?', '?', '?', '?', '?']]\n",
      "\n",
      "\n",
      "\n",
      "\n",
      "If instance is Positive \n",
      " step 2\n",
      "['Sunny' 'Warm' '?' 'Strong' 'Warm' 'Same']\n",
      "[['?', '?', '?', '?', '?', '?'], ['?', '?', '?', '?', '?', '?'], ['?', '?', '?', '?', '?', '?'], ['?', '?', '?', '?', '?', '?'], ['?', '?', '?', '?', '?', '?'], ['?', '?', '?', '?', '?', '?']]\n",
      "\n",
      "\n",
      "\n",
      "\n",
      "If instance is Negative \n",
      " step 3\n",
      "['Sunny' 'Warm' '?' 'Strong' 'Warm' 'Same']\n",
      "[['Sunny', '?', '?', '?', '?', '?'], ['?', 'Warm', '?', '?', '?', '?'], ['?', '?', '?', '?', '?', '?'], ['?', '?', '?', '?', '?', '?'], ['?', '?', '?', '?', '?', '?'], ['?', '?', '?', '?', '?', 'Same']]\n",
      "\n",
      "\n",
      "\n",
      "\n",
      "If instance is Positive \n",
      " step 4\n",
      "['Sunny' 'Warm' '?' 'Strong' '?' '?']\n",
      "[['Sunny', '?', '?', '?', '?', '?'], ['?', 'Warm', '?', '?', '?', '?'], ['?', '?', '?', '?', '?', '?'], ['?', '?', '?', '?', '?', '?'], ['?', '?', '?', '?', '?', '?'], ['?', '?', '?', '?', '?', '?']]\n",
      "\n",
      "\n",
      "\n",
      "\n",
      "Final Specific_h:\n",
      "['Sunny' 'Warm' '?' 'Strong' '?' '?']\n",
      "Final General_h:\n",
      "[['Sunny', '?', '?', '?', '?', '?'], ['?', 'Warm', '?', '?', '?', '?']]\n"
     ]
    }
   ],
   "source": [
    "s_final, g_final = learn(concepts, target)\n",
    "\n",
    "print(\"Final Specific_h:\", s_final, sep=\"\\n\")\n",
    "print(\"Final General_h:\", g_final, sep=\"\\n\")"
   ]
  }
 ],
 "metadata": {
  "kernelspec": {
   "display_name": "Python 3",
   "language": "python",
   "name": "python3"
  },
  "language_info": {
   "codemirror_mode": {
    "name": "ipython",
    "version": 3
   },
   "file_extension": ".py",
   "mimetype": "text/x-python",
   "name": "python",
   "nbconvert_exporter": "python",
   "pygments_lexer": "ipython3",
   "version": "3.12.5"
  }
 },
 "nbformat": 4,
 "nbformat_minor": 5
}
