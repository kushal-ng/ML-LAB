{
 "cells": [
  {
   "cell_type": "code",
   "execution_count": null,
   "id": "e39d9083",
   "metadata": {},
   "outputs": [],
   "source": [
    "\"\"\"\"\n",
    "#Implement a Perceptron Algorithm for AND Logic Gate with 2-bit Binary Input. \n",
    "#Test for the following Hyper parameters:\n",
    "    -->w1=1.2, w2=0.6, bias =0, threshold = 1, learning_rate = 0.5\n",
    "    -->w1=1.2, w2=0.6, bias =0.5, threshold = 1, learning_rate = 0.5\n",
    "    -->w1=1.2, w2=0.6, bias =1.0, threshold = 1, learning_rate = 0.5\n",
    "    -->w1=1.2, w2=0.6, bias =-1.0, threshold = 1, learning_rate = 0.5\n",
    "\"\"\"\"\""
   ]
  },
  {
   "cell_type": "code",
   "execution_count": 1,
   "id": "c05cbbb9",
   "metadata": {},
   "outputs": [],
   "source": [
    "import numpy as np"
   ]
  },
  {
   "cell_type": "code",
   "execution_count": 2,
   "id": "446a3edd",
   "metadata": {},
   "outputs": [],
   "source": [
    "# Define inputs and expected outputs for an AND gate\n",
    "inputs = np.array([\n",
    "    [0, 0],\n",
    "    [0, 1],\n",
    "    [1, 0],\n",
    "    [1, 1]\n",
    "])\n",
    "expected_outputs = np.array([0, 0, 0, 1])\n"
   ]
  },
  {
   "cell_type": "code",
   "execution_count": 3,
   "id": "5bee281d",
   "metadata": {},
   "outputs": [],
   "source": [
    "# Initialize weights, bias, threshold, and learning rate\n",
    "w1, w2 = 1.2, 0.6\n",
    "bias =-1.0\n",
    "threshold = 1\n",
    "learning_rate = 0.5"
   ]
  },
  {
   "cell_type": "code",
   "execution_count": 4,
   "id": "e0b4ab2e",
   "metadata": {},
   "outputs": [],
   "source": [
    "# Activation function\n",
    "def activation_function(net_input):\n",
    "    return 1 if net_input >= threshold else 0\n"
   ]
  },
  {
   "cell_type": "code",
   "execution_count": 5,
   "id": "30896659",
   "metadata": {},
   "outputs": [],
   "source": [
    "# Training loop\n",
    "epochs = 0\n",
    "while True:\n",
    "    error_count = 0  # Track the number of misclassifications\n",
    "    \n",
    "    for i in range(len(inputs)):\n",
    "        # Calculate weighted sum including the bias\n",
    "        net_input = w1 * inputs[i][0] + w2 * inputs[i][1] + bias\n",
    "        \n",
    "        # Apply activation function\n",
    "        output = activation_function(net_input)\n",
    "        \n",
    "        # Calculate error\n",
    "        error = expected_outputs[i] - output\n",
    "        \n",
    "        # Update weights and bias if there is an error\n",
    "        if error != 0:\n",
    "            w1 += learning_rate * error * inputs[i][0]\n",
    "            w2 += learning_rate * error * inputs[i][1]\n",
    "            bias += learning_rate * error  # Update bias as well\n",
    "            error_count += 1\n",
    "    \n",
    "    epochs += 1\n",
    "    \n",
    "    # Break if there are no errors\n",
    "    if error_count == 0:\n",
    "        break\n"
   ]
  },
  {
   "cell_type": "code",
   "execution_count": 6,
   "id": "93e2a177",
   "metadata": {},
   "outputs": [
    {
     "name": "stdout",
     "output_type": "stream",
     "text": [
      "Training completed in 3 epochs\n",
      "Final weights: w1 = 1.2, w2 = 1.1, bias = -1.0\n",
      "Testing perceptron for AND gate:\n",
      "Input: [0 0], Output: 0, Expected: 0\n",
      "Input: [0 1], Output: 0, Expected: 0\n",
      "Input: [1 0], Output: 0, Expected: 0\n",
      "Input: [1 1], Output: 1, Expected: 1\n"
     ]
    }
   ],
   "source": [
    "# Display results\n",
    "print(f\"Training completed in {epochs} epochs\")\n",
    "print(f\"Final weights: w1 = {w1}, w2 = {w2}, bias = {bias}\")\n",
    "\n",
    "# Test the perceptron on all input cases\n",
    "print(\"Testing perceptron for AND gate:\")\n",
    "for i in range(len(inputs)):\n",
    "    net_input = w1 * inputs[i][0] + w2 * inputs[i][1] + bias\n",
    "    output = activation_function(net_input)\n",
    "    print(f\"Input: {inputs[i]}, Output: {output}, Expected: {expected_outputs[i]}\")\n"
   ]
  }
 ],
 "metadata": {
  "kernelspec": {
   "display_name": "Python 3",
   "language": "python",
   "name": "python3"
  },
  "language_info": {
   "codemirror_mode": {
    "name": "ipython",
    "version": 3
   },
   "file_extension": ".py",
   "mimetype": "text/x-python",
   "name": "python",
   "nbconvert_exporter": "python",
   "pygments_lexer": "ipython3",
   "version": "3.12.5"
  }
 },
 "nbformat": 4,
 "nbformat_minor": 5
}
